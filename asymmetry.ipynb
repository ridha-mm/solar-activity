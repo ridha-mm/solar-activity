{
  "cells": [
    {
      "cell_type": "markdown",
      "metadata": {
        "id": "view-in-github",
        "colab_type": "text"
      },
      "source": [
        "<a href=\"https://colab.research.google.com/github/Ridha273/solar-activity/blob/main/Asymmetry.ipynb\" target=\"_parent\"><img src=\"https://colab.research.google.com/assets/colab-badge.svg\" alt=\"Open In Colab\"/></a>"
      ]
    },
    {
      "cell_type": "code",
      "execution_count": null,
      "metadata": {
        "id": "0WjBSbVHAXXu"
      },
      "outputs": [],
      "source": [
        "import numpy as np\n",
        "import matplotlib.pyplot as plt\n",
        "from astropy.io import ascii"
      ]
    },
    {
      "cell_type": "markdown",
      "source": [
        "## Separating data by latitude"
      ],
      "metadata": {
        "id": "OQ8vBHc8BPix"
      }
    },
    {
      "cell_type": "code",
      "execution_count": null,
      "metadata": {
        "id": "pmefsyk0AXXy"
      },
      "outputs": [],
      "source": [
        "Ns = []\n",
        "Ss = []\n",
        "Ts = list(range(1964,2017))\n",
        "for i in Ts:\n",
        "    data = ascii.read('sunspot-data.csv')\n",
        "    n = 0\n",
        "    s = 0\n",
        "    for j in range(len(data)):\n",
        "        if data[j]['lat']>=0:\n",
        "            n = n+1\n",
        "        else:\n",
        "            s = s+1\n",
        "    Ns.append(n)\n",
        "    Ss.append(s)"
      ]
    },
    {
      "cell_type": "code",
      "execution_count": null,
      "metadata": {
        "id": "-KhEYoaFAXX1"
      },
      "outputs": [],
      "source": [
        "Nc = []\n",
        "Sc = []\n",
        "Tc = list(range(1996,2014))\n",
        "for i in Tc:\n",
        "    data = ascii.read('coronal-hole-data.csv')\n",
        "    n = 0\n",
        "    s = 0\n",
        "    for j in range(len(data)):\n",
        "        if data[j]['lat']>=0:\n",
        "            n = n+1\n",
        "        else:\n",
        "            s = s+1\n",
        "    Nc.append(n)\n",
        "    Sc.append(s)"
      ]
    },
    {
      "cell_type": "markdown",
      "source": [
        "## Calculating Asymmetry"
      ],
      "metadata": {
        "id": "v_Bmof-6BLA3"
      }
    },
    {
      "cell_type": "code",
      "execution_count": null,
      "metadata": {
        "id": "wIDR_9mJAXX3"
      },
      "outputs": [],
      "source": [
        "ass = []\n",
        "for (i,j) in zip(Ns,Ss):\n",
        "    a = (i-j)/(i+j)\n",
        "    ass.append(a)"
      ]
    },
    {
      "cell_type": "code",
      "execution_count": null,
      "metadata": {
        "id": "q-I-kaJ3AXX5"
      },
      "outputs": [],
      "source": [
        "ach = []\n",
        "for (p,q) in zip(Nc,Sc):\n",
        "    b=(p-q)/(p+q)\n",
        "    ach.append(b)"
      ]
    },
    {
      "cell_type": "code",
      "execution_count": null,
      "metadata": {
        "id": "_OcczGc5AXX6",
        "outputId": "331481e1-af47-4259-84ed-f7ebf4bb5ff7"
      },
      "outputs": [
        {
          "data": {
            "image/png": "[encoded data removed]",
            "text/plain": [
              "<Figure size 432x288 with 1 Axes>"
            ]
          },
          "metadata": {
            "needs_background": "light"
          },
          "output_type": "display_data"
        }
      ],
      "source": [
        "plt.plot(Ts,ass, color='salmon', label = 'SS')\n",
        "plt.plot(Tc,ach, color='slateblue', label = 'CH')\n",
        "plt.axvline(2001.9, -1, 1, color='black', label = 'Pole reversal end')\n",
        "plt.xlabel('Year')\n",
        "plt.ylabel('Asymmetry')\n",
        "plt.legend()"
      ]
    },
    {
      "cell_type": "markdown",
      "source": [
        "## Correlation"
      ],
      "metadata": {
        "id": "POJK2CpBBbq2"
      }
    },
    {
      "cell_type": "code",
      "execution_count": null,
      "metadata": {
        "id": "U5MbZBexAXX8",
        "outputId": "8a98c86a-e88e-4933-d5b8-ba203b5ffe08"
      },
      "outputs": [
        {
          "name": "stdout",
          "output_type": "stream",
          "text": [
            "(0.1817283554357422, 0.4704788509654782)\n",
            "SpearmanrResult(correlation=0.040247678018575844, pvalue=0.8740147776078566)\n",
            "PointbiserialrResult(correlation=0.1817283554357422, pvalue=0.4704788509654782)\n",
            "KendalltauResult(correlation=0.045751633986928116, pvalue=0.8228244054912468)\n"
          ]
        }
      ],
      "source": [
        "import scipy.stats.stats as sr\n",
        "print(sr.pearsonr(ass[32:50],ach))\n",
        "print(sr.spearmanr(ass[32:50],ach))\n",
        "print(sr.pointbiserialr(ass[32:50],ach))\n",
        "print(sr.kendalltau(ass[32:50],ach))"
      ]
    },
    {
      "cell_type": "code",
      "execution_count": null,
      "metadata": {
        "id": "TuXykpAiAXX9"
      },
      "outputs": [],
      "source": [
        ""
      ]
    }
  ],
  "metadata": {
    "kernelspec": {
      "display_name": "Python 3",
      "language": "python",
      "name": "python3"
    },
    "language_info": {
      "codemirror_mode": {
        "name": "ipython",
        "version": 3
      },
      "file_extension": ".py",
      "mimetype": "text/x-python",
      "name": "python",
      "nbconvert_exporter": "python",
      "pygments_lexer": "ipython3",
      "version": "3.7.4"
    },
    "colab": {
      "name": "Asymmetry.ipynb",
      "provenance": [],
      "include_colab_link": true
    }
  },
  "nbformat": 4,
  "nbformat_minor": 0
}
